{
  "cells": [
    {
      "cell_type": "code",
      "execution_count": 2,
      "metadata": {
        "colab": {
          "base_uri": "https://localhost:8080/"
        },
        "id": "LGScodO231kf",
        "outputId": "71049a6f-338b-4168-cdaa-35451ca534bf"
      },
      "outputs": [
        {
          "output_type": "stream",
          "name": "stdout",
          "text": [
            "Looking in indexes: https://pypi.org/simple, https://us-python.pkg.dev/colab-wheels/public/simple/\n",
            "Collecting idx2numpy\n",
            "  Downloading idx2numpy-1.2.3.tar.gz (6.8 kB)\n",
            "  Preparing metadata (setup.py) ... \u001b[?25l\u001b[?25hdone\n",
            "Requirement already satisfied: numpy in /usr/local/lib/python3.10/dist-packages (from idx2numpy) (1.22.4)\n",
            "Requirement already satisfied: six in /usr/local/lib/python3.10/dist-packages (from idx2numpy) (1.16.0)\n",
            "Building wheels for collected packages: idx2numpy\n",
            "  Building wheel for idx2numpy (setup.py) ... \u001b[?25l\u001b[?25hdone\n",
            "  Created wheel for idx2numpy: filename=idx2numpy-1.2.3-py3-none-any.whl size=7903 sha256=a4b4701d46f9d21a145f49d154489345c10e884c5dab8569746f7591eda54542\n",
            "  Stored in directory: /root/.cache/pip/wheels/e0/f4/e7/643fc5f932ec2ff92997f43f007660feb23f948aa8486f1107\n",
            "Successfully built idx2numpy\n",
            "Installing collected packages: idx2numpy\n",
            "Successfully installed idx2numpy-1.2.3\n"
          ]
        }
      ],
      "source": [
        "pip install idx2numpy"
      ]
    },
    {
      "cell_type": "code",
      "execution_count": 3,
      "metadata": {
        "colab": {
          "base_uri": "https://localhost:8080/"
        },
        "id": "GYF_jp0dwlNu",
        "outputId": "2d320a9c-7b37-4bec-a061-38d9490ef5b2"
      },
      "outputs": [
        {
          "output_type": "stream",
          "name": "stdout",
          "text": [
            "/content/drive\n"
          ]
        }
      ],
      "source": [
        "cd drive"
      ]
    },
    {
      "cell_type": "code",
      "execution_count": 4,
      "metadata": {
        "colab": {
          "base_uri": "https://localhost:8080/"
        },
        "id": "Y69ZC1fxxTgy",
        "outputId": "503c2a7b-415d-494d-cff6-f0181e1562ed"
      },
      "outputs": [
        {
          "output_type": "stream",
          "name": "stdout",
          "text": [
            "/content/drive/MyDrive\n"
          ]
        }
      ],
      "source": [
        "cd MyDrive"
      ]
    },
    {
      "cell_type": "markdown",
      "metadata": {
        "id": "R9iiXq2rx6EV"
      },
      "source": [
        "Importing Data for training and testing of images and labels"
      ]
    },
    {
      "cell_type": "code",
      "execution_count": 5,
      "metadata": {
        "colab": {
          "base_uri": "https://localhost:8080/",
          "height": 430
        },
        "id": "BbwjI21AS7GU",
        "outputId": "b7264b93-3dae-4587-ad29-e7835782b925"
      },
      "outputs": [
        {
          "output_type": "display_data",
          "data": {
            "text/plain": [
              "<Figure size 640x480 with 1 Axes>"
            ],
            "image/png": "[encoded data removed]"
          },
          "metadata": {}
        }
      ],
      "source": [
        "from numpy import mean\n",
        "from sklearn.datasets import make_classification\n",
        "from sklearn.model_selection import cross_val_score\n",
        "from sklearn.model_selection import RepeatedStratifiedKFold\n",
        "from sklearn.svm import SVC, LinearSVC\n",
        "import pandas as pd\n",
        "import numpy as np\n",
        "import idx2numpy\n",
        "import matplotlib.pyplot as plt\n",
        "from sklearn import svm, metrics\n",
        "from sklearn.metrics import accuracy_score, precision_score, recall_score, f1_score\n",
        "import matplotlib.pyplot as matplot\n",
        "from sklearn.metrics import confusion_matrix\n",
        "import seaborn as sb\n",
        "import time\n",
        "\n",
        "\n",
        "\n",
        "\n",
        "\n",
        "#train data\n",
        "imagefile_train = 'train-images-idx3-ubyte'\n",
        "imagearray_train = idx2numpy.convert_from_file(imagefile_train)\n",
        "\n",
        "labelfile_train = 'train-labels-idx1-ubyte'\n",
        "labels_train = idx2numpy.convert_from_file(labelfile_train)\n",
        "\n",
        "plt.imshow(imagearray_train[7], cmap=plt.cm.binary)\n",
        "\n",
        "\n",
        "#test data\n",
        "imagefile_test = 't10k-images-idx3-ubyte'\n",
        "imagearray_test = idx2numpy.convert_from_file(imagefile_test)\n",
        "\n",
        "# preprocessing images\n",
        "\n",
        "labelfile_test = 't10k-labels-idx1-ubyte'\n",
        "labels_test = idx2numpy.convert_from_file(labelfile_test)\n",
        "\n",
        "\n",
        "X_train, y_train = imagearray_train, labels_train\n",
        "X_test, y_test = imagearray_test, labels_test\n",
        "\n",
        "X_train = X_train.reshape(X_train.shape[0], X_train.shape[1]*X_train.shape[2])\n",
        "X_test = X_test.reshape(X_test.shape[0], X_test.shape[1]*X_test.shape[2])\n"
      ]
    },
    {
      "cell_type": "markdown",
      "metadata": {
        "id": "DtyV2A0zyGSX"
      },
      "source": [
        "Trying different SVM Kernels and finding accuracy"
      ]
    },
    {
      "cell_type": "code",
      "execution_count": 6,
      "metadata": {
        "colab": {
          "base_uri": "https://localhost:8080/"
        },
        "id": "MN_D8ukWX7Ut",
        "outputId": "cbd0a715-9ea6-434b-c993-7472a723d544"
      },
      "outputs": [
        {
          "output_type": "stream",
          "name": "stdout",
          "text": [
            "Training time:  344.4380793571472 s\n"
          ]
        }
      ],
      "source": [
        "\n",
        "svm_rbf = SVC(kernel='rbf')\n",
        "# fit\n",
        "start = time.time()\n",
        "svm_rbf.fit(X_train, y_train)\n",
        "end = time.time()\n",
        "training_time2 = end - start\n",
        "\n",
        "print('Training time: ', training_time2, 's')\n"
      ]
    },
    {
      "cell_type": "code",
      "execution_count": 7,
      "metadata": {
        "colab": {
          "base_uri": "https://localhost:8080/"
        },
        "id": "DiZf8_0x29Ff",
        "outputId": "6d87f95d-85f5-4a65-f1f5-b462cb0d3153"
      },
      "outputs": [
        {
          "output_type": "stream",
          "name": "stdout",
          "text": [
            "Training time:  344.4380793571472 s\n",
            "Testing time:  140.8392686843872 s\n",
            "0.9792\n",
            "Performance Report: \n",
            "               precision    recall  f1-score   support\n",
            "\n",
            "           0       0.98      0.99      0.99       980\n",
            "           1       0.99      0.99      0.99      1135\n",
            "           2       0.98      0.97      0.98      1032\n",
            "           3       0.97      0.99      0.98      1010\n",
            "           4       0.98      0.98      0.98       982\n",
            "           5       0.99      0.98      0.98       892\n",
            "           6       0.99      0.99      0.99       958\n",
            "           7       0.98      0.97      0.97      1028\n",
            "           8       0.97      0.98      0.97       974\n",
            "           9       0.97      0.96      0.97      1009\n",
            "\n",
            "    accuracy                           0.98     10000\n",
            "   macro avg       0.98      0.98      0.98     10000\n",
            "weighted avg       0.98      0.98      0.98     10000\n",
            " \n",
            "\n",
            "Precision Score: \n",
            " 0.9792 \n",
            "\n",
            "Recall Score: \n",
            " 0.9792 \n",
            "\n",
            "F1 Score: \n",
            " 0.9792 \n",
            "\n"
          ]
        }
      ],
      "source": [
        "start = time.time()\n",
        "pred_rbf = svm_rbf.predict(X_test)\n",
        "end = time.time()\n",
        "training_time = end - start\n",
        "\n",
        "print('Training time: ', training_time2, 's')\n",
        "print('Testing time: ', training_time, 's')\n",
        "rbf_accuracy = accuracy_score(y_test, pred_rbf)\n",
        "print(rbf_accuracy)\n",
        "print(\"Performance Report: \\n %s \\n\" % (metrics.classification_report(y_test, pred_rbf)))\n",
        "print(\"Precision Score: \\n %s \\n\" % (precision_score(y_test, pred_rbf, average='micro')))\n",
        "print(\"Recall Score: \\n %s \\n\" % (recall_score(y_test, pred_rbf, average='micro')))\n",
        "print(\"F1 Score: \\n %s \\n\" % (f1_score(y_test, pred_rbf, average='micro')))\n"
      ]
    },
    {
      "cell_type": "code",
      "execution_count": 9,
      "metadata": {
        "colab": {
          "base_uri": "https://localhost:8080/"
        },
        "id": "MsNu5YPO8V1x",
        "outputId": "ac85be6a-5901-4267-b1fd-a037c1907165"
      },
      "outputs": [
        {
          "output_type": "stream",
          "name": "stdout",
          "text": [
            "Training time:  2375.6787581443787 s\n"
          ]
        }
      ],
      "source": [
        "svm_linear = LinearSVC(dual=False)\n",
        "start = time.time()\n",
        "svm_linear.fit(X_train, y_train)\n",
        "end = time.time()\n",
        "training_time = end - start\n",
        "\n",
        "print('Training time: ', training_time, 's')"
      ]
    },
    {
      "cell_type": "code",
      "execution_count": 10,
      "metadata": {
        "colab": {
          "base_uri": "https://localhost:8080/"
        },
        "id": "BTrH6Ybj861H",
        "outputId": "07519f92-df52-4e7c-ced2-ed3c5e4a1f9e"
      },
      "outputs": [
        {
          "output_type": "stream",
          "name": "stdout",
          "text": [
            "Training time:  2375.6787581443787 s\n",
            "Testing time:  0.09818196296691895 s\n",
            "0.9169\n",
            "Performance Report: \n",
            "               precision    recall  f1-score   support\n",
            "\n",
            "           0       0.95      0.98      0.97       980\n",
            "           1       0.96      0.98      0.97      1135\n",
            "           2       0.92      0.88      0.90      1032\n",
            "           3       0.90      0.91      0.90      1010\n",
            "           4       0.92      0.93      0.93       982\n",
            "           5       0.88      0.86      0.87       892\n",
            "           6       0.93      0.95      0.94       958\n",
            "           7       0.92      0.92      0.92      1028\n",
            "           8       0.87      0.87      0.87       974\n",
            "           9       0.90      0.89      0.90      1009\n",
            "\n",
            "    accuracy                           0.92     10000\n",
            "   macro avg       0.92      0.92      0.92     10000\n",
            "weighted avg       0.92      0.92      0.92     10000\n",
            " \n",
            "\n",
            "Precision Score: \n",
            " 0.9169 \n",
            "\n",
            "Recall Score: \n",
            " 0.9169 \n",
            "\n",
            "F1 Score: \n",
            " 0.9169 \n",
            "\n"
          ]
        }
      ],
      "source": [
        "start = time.time()\n",
        "pred_linear = svm_linear.predict(X_test)\n",
        "end = time.time()\n",
        "training_time2 = end - start\n",
        "\n",
        "print('Training time: ', training_time, 's')\n",
        "print('Testing time: ', training_time2, 's')\n",
        "\n",
        "linear_accuracy = accuracy_score(y_test, pred_linear)\n",
        "print(linear_accuracy)\n",
        "print(\"Performance Report: \\n %s \\n\" % (metrics.classification_report(y_test, pred_linear)))\n",
        "print(\"Precision Score: \\n %s \\n\" % (precision_score(y_test, pred_linear, average='micro')))\n",
        "print(\"Recall Score: \\n %s \\n\" % (recall_score(y_test, pred_linear, average='micro')))\n",
        "print(\"F1 Score: \\n %s \\n\" % (f1_score(y_test, pred_linear, average='micro')))"
      ]
    },
    {
      "cell_type": "code",
      "execution_count": 8,
      "metadata": {
        "colab": {
          "base_uri": "https://localhost:8080/"
        },
        "id": "GcAEKHaFHeht",
        "outputId": "fa4dd178-518f-4ea8-aa0d-1f3d0694a548"
      },
      "outputs": [
        {
          "output_type": "stream",
          "name": "stdout",
          "text": [
            "Training time:  351.8472557067871 s\n"
          ]
        }
      ],
      "source": [
        "svm_poly = SVC(kernel='poly')\n",
        "\n",
        "start = time.time()\n",
        "svm_poly.fit(X_train, y_train)\n",
        "\n",
        "end = time.time()\n",
        "training_time2 = end - start\n",
        "\n",
        "print('Training time: ', training_time2, 's')\n"
      ]
    },
    {
      "cell_type": "code",
      "execution_count": 9,
      "metadata": {
        "colab": {
          "base_uri": "https://localhost:8080/"
        },
        "id": "42yLhYpHHqZs",
        "outputId": "f2e0fad3-6a74-4bc6-c25c-0a7dc8912e02"
      },
      "outputs": [
        {
          "output_type": "stream",
          "name": "stdout",
          "text": [
            "Training time:  351.8472557067871 s\n",
            "Testing time:  64.91923880577087 s\n",
            "0.9771\n",
            "Performance Report: \n",
            "               precision    recall  f1-score   support\n",
            "\n",
            "           0       0.98      0.99      0.99       980\n",
            "           1       0.97      0.99      0.98      1135\n",
            "           2       0.98      0.97      0.98      1032\n",
            "           3       0.98      0.97      0.98      1010\n",
            "           4       0.97      0.98      0.98       982\n",
            "           5       0.97      0.97      0.97       892\n",
            "           6       0.98      0.98      0.98       958\n",
            "           7       0.97      0.97      0.97      1028\n",
            "           8       0.98      0.97      0.98       974\n",
            "           9       0.97      0.96      0.97      1009\n",
            "\n",
            "    accuracy                           0.98     10000\n",
            "   macro avg       0.98      0.98      0.98     10000\n",
            "weighted avg       0.98      0.98      0.98     10000\n",
            " \n",
            "\n",
            "Precision Score: \n",
            " 0.9771 \n",
            "\n",
            "Recall Score: \n",
            " 0.9771 \n",
            "\n",
            "F1 Score: \n",
            " 0.9771 \n",
            "\n"
          ]
        }
      ],
      "source": [
        "start = time.time()\n",
        "pred_poly = svm_poly.predict(X_test)\n",
        "end = time.time()\n",
        "training_time = end - start\n",
        "\n",
        "print('Training time: ', training_time2, 's')\n",
        "print('Testing time: ', training_time, 's')\n",
        "\n",
        "poly_accuracy = accuracy_score(y_test, pred_poly)\n",
        "print(poly_accuracy)\n",
        "print(\"Performance Report: \\n %s \\n\" % (metrics.classification_report(y_test, pred_poly)))\n",
        "print(\"Precision Score: \\n %s \\n\" % (precision_score(y_test, pred_poly, average='micro')))\n",
        "print(\"Recall Score: \\n %s \\n\" % (recall_score(y_test, pred_poly, average='micro')))\n",
        "print(\"F1 Score: \\n %s \\n\" % (f1_score(y_test, pred_poly, average='micro')))"
      ]
    },
    {
      "cell_type": "code",
      "execution_count": 7,
      "metadata": {
        "colab": {
          "base_uri": "https://localhost:8080/"
        },
        "id": "POTNkM7-OWCX",
        "outputId": "61135090-ca87-49a3-e39a-f7a416bb4471"
      },
      "outputs": [
        {
          "output_type": "stream",
          "name": "stdout",
          "text": [
            "Training time:  507.3958601951599 s\n"
          ]
        }
      ],
      "source": [
        "svm_sig = SVC(kernel='sigmoid')\n",
        "start = time.time()\n",
        "svm_sig.fit(X_train, y_train)\n",
        "end = time.time()\n",
        "training_time2 = end - start\n",
        "\n",
        "print('Training time: ', training_time2, 's')"
      ]
    },
    {
      "cell_type": "code",
      "execution_count": 8,
      "metadata": {
        "colab": {
          "base_uri": "https://localhost:8080/"
        },
        "id": "amEuUGXqOkJD",
        "outputId": "f78fa79f-afce-4594-966c-a82023413690"
      },
      "outputs": [
        {
          "output_type": "stream",
          "name": "stdout",
          "text": [
            "Training time:  507.3958601951599 s\n",
            "Testing time:  135.45381951332092 s\n",
            "0.7759\n",
            "Performance Report: \n",
            "               precision    recall  f1-score   support\n",
            "\n",
            "           0       0.81      0.83      0.82       980\n",
            "           1       0.88      0.95      0.91      1135\n",
            "           2       0.75      0.75      0.75      1032\n",
            "           3       0.78      0.72      0.75      1010\n",
            "           4       0.78      0.85      0.81       982\n",
            "           5       0.57      0.66      0.61       892\n",
            "           6       0.85      0.82      0.83       958\n",
            "           7       0.88      0.83      0.85      1028\n",
            "           8       0.69      0.64      0.67       974\n",
            "           9       0.76      0.68      0.72      1009\n",
            "\n",
            "    accuracy                           0.78     10000\n",
            "   macro avg       0.77      0.77      0.77     10000\n",
            "weighted avg       0.78      0.78      0.78     10000\n",
            " \n",
            "\n",
            "Precision Score: \n",
            " 0.7759 \n",
            "\n",
            "Recall Score: \n",
            " 0.7759 \n",
            "\n",
            "F1 Score: \n",
            " 0.7759 \n",
            "\n"
          ]
        }
      ],
      "source": [
        "start = time.time()\n",
        "\n",
        "pred_sig = svm_sig.predict(X_test)\n",
        "\n",
        "end = time.time()\n",
        "training_time = end - start\n",
        "print('Training time: ', training_time2, 's')\n",
        "print('Testing time: ', training_time, 's')\n",
        "\n",
        "sig_accuracy = accuracy_score(y_test, pred_sig)\n",
        "print(sig_accuracy)\n",
        "print(\"Performance Report: \\n %s \\n\" % (metrics.classification_report(y_test, pred_sig)))\n",
        "print(\"Precision Score: \\n %s \\n\" % (precision_score(y_test, pred_sig, average='micro')))\n",
        "print(\"Recall Score: \\n %s \\n\" % (recall_score(y_test, pred_sig, average='micro')))\n",
        "print(\"F1 Score: \\n %s \\n\" % (f1_score(y_test, pred_sig, average='micro')))"
      ]
    },
    {
      "cell_type": "markdown",
      "metadata": {
        "id": "f0xstEYzhu9O"
      },
      "source": [
        "Comparing accuracies in a graph"
      ]
    },
    {
      "cell_type": "code",
      "execution_count": null,
      "metadata": {
        "colab": {
          "base_uri": "https://localhost:8080/",
          "height": 564
        },
        "id": "Jb0KLUXGb_-m",
        "outputId": "845a2058-8522-4524-b063-fd2db0e3e1a3"
      },
      "outputs": [
        {
          "data": {
            "image/png": "[encoded data removed]",
            "text/plain": [
              "<Figure size 1000x600 with 2 Axes>"
            ]
          },
          "metadata": {},
          "output_type": "display_data"
        }
      ],
      "source": [
        "matrix = confusion_matrix(y_test, pred_rbf)\n",
        "matplot.subplots(figsize=(10, 6))\n",
        "sb.heatmap(matrix, annot = True, fmt = 'g')\n",
        "matplot.title(\"Confusion Matrix\")\n",
        "matplot.ylabel(\"Actual\")\n",
        "matplot.xlabel(\"Predicted\")\n",
        "\n",
        "matplot.show()"
      ]
    },
    {
      "cell_type": "code",
      "execution_count": null,
      "metadata": {
        "colab": {
          "base_uri": "https://localhost:8080/",
          "height": 472
        },
        "id": "TASwVzEEe-tZ",
        "outputId": "2cd9c62a-d0e4-4f16-8e6f-45c6789518a4"
      },
      "outputs": [
        {
          "data": {
            "image/png": "[encoded data removed]",
            "text/plain": [
              "<Figure size 640x480 with 1 Axes>"
            ]
          },
          "metadata": {},
          "output_type": "display_data"
        }
      ],
      "source": [
        "def addlabels(x,y):\n",
        "    for i in range(len(x)):\n",
        "        plt.text(i, y[i], y[i], ha = 'center')\n",
        "x = ['rbf', 'linear', 'poly', 'sigmoid']\n",
        "y = [rbf_accuracy*100, linear_accuracy*100, poly_accuracy*100, sig_accuracy*100]\n",
        "plt.bar(x,y, color = 'darkorange')\n",
        "plt.xlabel(\"Kernel Type\")\n",
        "plt.ylabel(\"Accuracy(%)\")\n",
        "plt.title(\"Accuracy of different SVM Kernels\")\n",
        "addlabels(x, y)\n",
        "plt.yticks(np.arange(0, 105, 5))\n",
        "plt.show()"
      ]
    },
    {
      "cell_type": "code",
      "execution_count": null,
      "metadata": {
        "colab": {
          "background_save": true
        },
        "id": "D5B5jMs6oJzm",
        "outputId": "4bcf0b6c-2518-4f1f-8c99-f050a3cbd4bd"
      },
      "outputs": [
        {
          "data": {
            "text/plain": [
              "0.1135"
            ]
          },
          "execution_count": 7,
          "metadata": {},
          "output_type": "execute_result"
        }
      ],
      "source": [
        "coefficient = []\n",
        "n_supp = []\n",
        "sup_vec = []\n",
        "i = 0\n",
        "svm = SVC(kernel='rbf', gamma=0.01)\n",
        "model = svm.fit(X_train, y_train)\n",
        "pred = svm.predict(X_test)\n",
        "a = accuracy_score(y_test, pred)\n",
        "a\n",
        "# df = pd.DataFrame(columns = ['c','gamma','test_acc'])\n",
        "# for c in [0.01, 1, 10]:\n",
        "#     for g in [0.01, 1, 10]:\n",
        "#         svm = SVC(kernel='rbf', C=c, gamma=g)\n",
        "#         model = svm.fit(X_train, y_train)\n",
        "#         globals()['model%s' % i] = model\n",
        "#         d_coef = svm.dual_coef_\n",
        "#         support = svm.n_support_\n",
        "#         sv = svm.support_\n",
        "    \n",
        "        \n",
        "    \n",
        "#         pred = svm.predict(X_test)\n",
        "#         a = accuracy_score(y_test, pred)\n",
        "    \n",
        "#         coefficient.append(d_coef)\n",
        "#         n_supp.append(support)\n",
        "#         sup_vec.append(sv)\n",
        "#         df.loc[i] = [c,g,a]\n",
        "#         i=i+1"
      ]
    },
    {
      "cell_type": "code",
      "execution_count": null,
      "metadata": {
        "id": "5CyrECBCOBZ8"
      },
      "outputs": [],
      "source": [
        "df"
      ]
    },
    {
      "cell_type": "markdown",
      "metadata": {
        "id": "_nSC3WaZmT93"
      },
      "source": [
        "Summary:\n",
        "\n",
        "1- Importing data from files\n",
        "\n",
        "2- Reshaping data to 2-dimensions\n",
        "\n",
        "3- Using SVM as the classifier and comparing different Kernels (RBF, Linear, Poly, Sigmoid)\n",
        "\n",
        "4- Showing accuracy and performance report\n",
        "\n",
        "5- Shows that RBF is the best model with an accuracy of 97.92%\n",
        "\n",
        "6- Shows Confusion matrix for RBF which shows that it is very accurate when comparing the actual vs predicited classification\n",
        "\n",
        "7- Visualizes the different kernels and their accuracies\n"
      ]
    }
  ],
  "metadata": {
    "colab": {
      "provenance": []
    },
    "kernelspec": {
      "display_name": "Python 3",
      "name": "python3"
    },
    "language_info": {
      "name": "python"
    }
  },
  "nbformat": 4,
  "nbformat_minor": 0
}